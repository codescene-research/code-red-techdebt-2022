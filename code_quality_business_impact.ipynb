{
 "cells": [
  {
   "cell_type": "markdown",
   "id": "a3d2e57f-ed0d-4d05-8ea9-d59a35873eb7",
   "metadata": {},
   "source": [
    "# Code Red: The Business Impact of Code Quality\n",
    "\n",
    "This notebook contains the complete replication package, including raw data and scripts for the statistical analysis, for the paper \"Code Red: The Business Impact of Code Quality: A Quantitative Study of 39 Proprietary Production Codebases\" by Adam Tornhill & Markus Borg, 2022."
   ]
  },
  {
   "cell_type": "code",
   "execution_count": 1,
   "id": "d57609b7-6e9e-41a1-b8e5-30329d03e9ab",
   "metadata": {},
   "outputs": [
    {
     "name": "stdout",
     "output_type": "stream",
     "text": [
      "Collecting package metadata (current_repodata.json): done\n",
      "Solving environment: done\n",
      "\n",
      "## Package Plan ##\n",
      "\n",
      "  environment location: /Users/adam/opt/miniconda3/envs/ml\n",
      "\n",
      "  added / updated specs:\n",
      "    - pandas\n",
      "\n",
      "\n",
      "The following packages will be downloaded:\n",
      "\n",
      "    package                    |            build\n",
      "    ---------------------------|-----------------\n",
      "    certifi-2021.10.8          |   py39hecd8cb5_2         152 KB\n",
      "    openssl-1.1.1m             |       hca72f7f_0         2.2 MB\n",
      "    pandas-1.3.5               |   py39h743cdd8_0         9.2 MB\n",
      "    ------------------------------------------------------------\n",
      "                                           Total:        11.6 MB\n",
      "\n",
      "The following packages will be UPDATED:\n",
      "\n",
      "  ca-certificates    conda-forge::ca-certificates-2021.10.~ --> pkgs/main::ca-certificates-2021.10.26-hecd8cb5_2\n",
      "  certifi            conda-forge::certifi-2021.10.8-py39h6~ --> pkgs/main::certifi-2021.10.8-py39hecd8cb5_2\n",
      "  openssl            conda-forge::openssl-1.1.1l-h0d85af4_0 --> pkgs/main::openssl-1.1.1m-hca72f7f_0\n",
      "  pandas                               1.3.4-py39h743cdd8_0 --> 1.3.5-py39h743cdd8_0\n",
      "\n",
      "\n",
      "\n",
      "Downloading and Extracting Packages\n",
      "pandas-1.3.5         | 9.2 MB    | ##################################### | 100% \n",
      "certifi-2021.10.8    | 152 KB    | ##################################### | 100% \n",
      "openssl-1.1.1m       | 2.2 MB    | ##################################### | 100% \n",
      "Preparing transaction: done\n",
      "Verifying transaction: done\n",
      "Executing transaction: done\n"
     ]
    }
   ],
   "source": [
    "!conda install -y pandas"
   ]
  },
  {
   "cell_type": "markdown",
   "id": "0b13417e-a3ca-4a54-9f66-5c1ec93ed22b",
   "metadata": {},
   "source": [
    "## Data collection and preparation\n",
    "\n",
    "Read the CSV, and make sure we add the code health category which we use as the independent variable in the calculations:"
   ]
  },
  {
   "cell_type": "code",
   "execution_count": 26,
   "id": "751c12d5-1b77-4073-88cd-bb537116062d",
   "metadata": {},
   "outputs": [],
   "source": [
    "import pandas as pd\n",
    "\n",
    "def _by_code_health_category(df):\n",
    "    def v_to_category(v):\n",
    "        if v < 4.0:\n",
    "            return 'alert'\n",
    "        if v < 9.0:\n",
    "            return 'warning'\n",
    "        return 'healthy'\n",
    "\n",
    "    code_health_categories = [v_to_category(v) for v in df['code_health_now']]\n",
    "    df['code_health_category'] = code_health_categories\n",
    "\n",
    "def read_cleaned_data_from(file_name):\n",
    "    df = pd.read_csv(file_name, sep=';', decimal=\",\")\n",
    "    \n",
    "    _by_code_health_category(df)\n",
    "    \n",
    "    return _keep_entities_with_issues(df)"
   ]
  },
  {
   "cell_type": "code",
   "execution_count": 14,
   "id": "94488971-d8f2-4865-bc13-93a9b6b029c1",
   "metadata": {},
   "outputs": [],
   "source": [
    "df = read_cleaned_data_from('./data/code_health_ct_data.csv')"
   ]
  },
  {
   "cell_type": "code",
   "execution_count": 15,
   "id": "da1db1a2-43e8-4e74-8d98-5640b0fa0c18",
   "metadata": {},
   "outputs": [
    {
     "data": {
      "text/html": [
       "<div>\n",
       "<style scoped>\n",
       "    .dataframe tbody tr th:only-of-type {\n",
       "        vertical-align: middle;\n",
       "    }\n",
       "\n",
       "    .dataframe tbody tr th {\n",
       "        vertical-align: top;\n",
       "    }\n",
       "\n",
       "    .dataframe thead th {\n",
       "        text-align: right;\n",
       "    }\n",
       "</style>\n",
       "<table border=\"1\" class=\"dataframe\">\n",
       "  <thead>\n",
       "    <tr style=\"text-align: right;\">\n",
       "      <th></th>\n",
       "      <th>index</th>\n",
       "      <th>issues</th>\n",
       "      <th>mean_time_for_issue</th>\n",
       "      <th>lines_of_code</th>\n",
       "      <th>code_health_now</th>\n",
       "      <th>total</th>\n",
       "      <th>max_time_for_issue</th>\n",
       "      <th>total_defects</th>\n",
       "    </tr>\n",
       "  </thead>\n",
       "  <tbody>\n",
       "    <tr>\n",
       "      <th>count</th>\n",
       "      <td>30737.000000</td>\n",
       "      <td>30737.000000</td>\n",
       "      <td>2.538600e+04</td>\n",
       "      <td>25386.000000</td>\n",
       "      <td>30737.000000</td>\n",
       "      <td>3.073700e+04</td>\n",
       "      <td>3.073700e+04</td>\n",
       "      <td>30737.000000</td>\n",
       "    </tr>\n",
       "    <tr>\n",
       "      <th>mean</th>\n",
       "      <td>2083.158831</td>\n",
       "      <td>4.170023</td>\n",
       "      <td>8.573125e+03</td>\n",
       "      <td>122.128338</td>\n",
       "      <td>9.577271</td>\n",
       "      <td>3.225713e+04</td>\n",
       "      <td>1.828689e+04</td>\n",
       "      <td>0.353743</td>\n",
       "    </tr>\n",
       "    <tr>\n",
       "      <th>std</th>\n",
       "      <td>2024.517390</td>\n",
       "      <td>7.126601</td>\n",
       "      <td>2.539253e+04</td>\n",
       "      <td>520.709154</td>\n",
       "      <td>1.104758</td>\n",
       "      <td>1.000183e+05</td>\n",
       "      <td>4.849241e+04</td>\n",
       "      <td>1.433712</td>\n",
       "    </tr>\n",
       "    <tr>\n",
       "      <th>min</th>\n",
       "      <td>0.000000</td>\n",
       "      <td>1.000000</td>\n",
       "      <td>6.000000e+01</td>\n",
       "      <td>0.000000</td>\n",
       "      <td>1.000000</td>\n",
       "      <td>6.000000e+01</td>\n",
       "      <td>6.000000e+01</td>\n",
       "      <td>0.000000</td>\n",
       "    </tr>\n",
       "    <tr>\n",
       "      <th>25%</th>\n",
       "      <td>441.000000</td>\n",
       "      <td>1.000000</td>\n",
       "      <td>1.560000e+03</td>\n",
       "      <td>11.000000</td>\n",
       "      <td>9.750000</td>\n",
       "      <td>2.940000e+03</td>\n",
       "      <td>2.280000e+03</td>\n",
       "      <td>0.000000</td>\n",
       "    </tr>\n",
       "    <tr>\n",
       "      <th>50%</th>\n",
       "      <td>1397.000000</td>\n",
       "      <td>2.000000</td>\n",
       "      <td>3.360000e+03</td>\n",
       "      <td>49.000000</td>\n",
       "      <td>10.000000</td>\n",
       "      <td>9.060000e+03</td>\n",
       "      <td>6.180000e+03</td>\n",
       "      <td>0.000000</td>\n",
       "    </tr>\n",
       "    <tr>\n",
       "      <th>75%</th>\n",
       "      <td>3251.000000</td>\n",
       "      <td>4.000000</td>\n",
       "      <td>8.014500e+03</td>\n",
       "      <td>127.000000</td>\n",
       "      <td>10.000000</td>\n",
       "      <td>2.700000e+04</td>\n",
       "      <td>1.626000e+04</td>\n",
       "      <td>0.000000</td>\n",
       "    </tr>\n",
       "    <tr>\n",
       "      <th>max</th>\n",
       "      <td>8395.000000</td>\n",
       "      <td>293.000000</td>\n",
       "      <td>1.452780e+06</td>\n",
       "      <td>72630.000000</td>\n",
       "      <td>10.000000</td>\n",
       "      <td>5.985900e+06</td>\n",
       "      <td>1.452780e+06</td>\n",
       "      <td>58.000000</td>\n",
       "    </tr>\n",
       "  </tbody>\n",
       "</table>\n",
       "</div>"
      ],
      "text/plain": [
       "              index        issues  mean_time_for_issue  lines_of_code  \\\n",
       "count  30737.000000  30737.000000         2.538600e+04   25386.000000   \n",
       "mean    2083.158831      4.170023         8.573125e+03     122.128338   \n",
       "std     2024.517390      7.126601         2.539253e+04     520.709154   \n",
       "min        0.000000      1.000000         6.000000e+01       0.000000   \n",
       "25%      441.000000      1.000000         1.560000e+03      11.000000   \n",
       "50%     1397.000000      2.000000         3.360000e+03      49.000000   \n",
       "75%     3251.000000      4.000000         8.014500e+03     127.000000   \n",
       "max     8395.000000    293.000000         1.452780e+06   72630.000000   \n",
       "\n",
       "       code_health_now         total  max_time_for_issue  total_defects  \n",
       "count     30737.000000  3.073700e+04        3.073700e+04   30737.000000  \n",
       "mean          9.577271  3.225713e+04        1.828689e+04       0.353743  \n",
       "std           1.104758  1.000183e+05        4.849241e+04       1.433712  \n",
       "min           1.000000  6.000000e+01        6.000000e+01       0.000000  \n",
       "25%           9.750000  2.940000e+03        2.280000e+03       0.000000  \n",
       "50%          10.000000  9.060000e+03        6.180000e+03       0.000000  \n",
       "75%          10.000000  2.700000e+04        1.626000e+04       0.000000  \n",
       "max          10.000000  5.985900e+06        1.452780e+06      58.000000  "
      ]
     },
     "execution_count": 15,
     "metadata": {},
     "output_type": "execute_result"
    }
   ],
   "source": [
    "df.describe()"
   ]
  },
  {
   "cell_type": "markdown",
   "id": "747f0466-1c5c-445b-b8ec-8ccdacd9236e",
   "metadata": {},
   "source": [
    "To meet the pre-conditions for an ANOVA, we must ensure normality of the dependent variables. We normalize DV-RQ2 and DV-RQ3 using the Yeo-Johnson algorithm. The scaled values are used for plots and descriptive statistics."
   ]
  },
  {
   "cell_type": "code",
   "execution_count": 22,
   "id": "3a2faac6-6aae-4f15-b60c-4da5e836f817",
   "metadata": {},
   "outputs": [],
   "source": [
    "from scipy import stats\n",
    "import math\n",
    "# Yeo-Johnson transform\n",
    "from sklearn.preprocessing import PowerTransformer\n",
    "import numpy as np\n",
    "\n",
    "def _scale(df, column_to_scale):\n",
    "    max_v = df[column_to_scale].max()\n",
    "    \n",
    "    def v_to_scaled(v):\n",
    "        return v / max(max_v, 1)\n",
    "    \n",
    "    scaled = [v_to_scaled(v) for v in df[column_to_scale]]\n",
    "    df[column_to_scale + '_scaled'] = scaled\n",
    "    return df\n",
    "\n",
    "def _normalize_yj_transform(df, column_to_normalize):\n",
    "    pt = PowerTransformer(method='yeo-johnson')\n",
    "    \n",
    "    data = np.array(df[column_to_normalize])\n",
    "    reshaped_data = np.array(data).reshape(-1, 1)\n",
    "    \n",
    "    pt.fit(reshaped_data)\n",
    "    df[column_to_normalize + '_norm'] = pt.transform(reshaped_data)\n",
    "    return df\n",
    "    \n",
    "def normalize_combined_df(df):\n",
    "    _scale(df, 'total_defects')\n",
    "    \n",
    "    \n",
    "    # graphs with denormalized cycle times are much easier to interpret.\n",
    "    # however, we need to have the data follow a normal distribution to make significance tests with an ANOVA:\n",
    "\n",
    "    _normalize_yj_transform(df, 'max_time_for_issue')\n",
    "    _scale(df, 'max_time_for_issue')\n",
    "    _scale(df, 'max_time_for_issue_norm')\n",
    "    \n",
    "    _scale(df, 'mean_time_for_issue')\n",
    "    _normalize_yj_transform(df, 'mean_time_for_issue')\n",
    "    _normalize_yj_transform(df, 'mean_time_for_issue_scaled')\n",
    "    \n",
    "    return df\n"
   ]
  },
  {
   "cell_type": "code",
   "execution_count": 23,
   "id": "bed73972-dec6-4030-8ad2-e3ffea3154f1",
   "metadata": {},
   "outputs": [],
   "source": [
    "df = normalize_combined_df(df)"
   ]
  },
  {
   "cell_type": "code",
   "execution_count": 24,
   "id": "8595c8cb-d76f-41b3-ad4e-88ea82bfbc75",
   "metadata": {},
   "outputs": [
    {
     "data": {
      "text/html": [
       "<div>\n",
       "<style scoped>\n",
       "    .dataframe tbody tr th:only-of-type {\n",
       "        vertical-align: middle;\n",
       "    }\n",
       "\n",
       "    .dataframe tbody tr th {\n",
       "        vertical-align: top;\n",
       "    }\n",
       "\n",
       "    .dataframe thead th {\n",
       "        text-align: right;\n",
       "    }\n",
       "</style>\n",
       "<table border=\"1\" class=\"dataframe\">\n",
       "  <thead>\n",
       "    <tr style=\"text-align: right;\">\n",
       "      <th></th>\n",
       "      <th>index</th>\n",
       "      <th>issues</th>\n",
       "      <th>mean_time_for_issue</th>\n",
       "      <th>lines_of_code</th>\n",
       "      <th>code_health_now</th>\n",
       "      <th>total</th>\n",
       "      <th>max_time_for_issue</th>\n",
       "      <th>total_defects</th>\n",
       "      <th>total_defects_scaled</th>\n",
       "      <th>max_time_for_issue_norm</th>\n",
       "      <th>max_time_for_issue_scaled</th>\n",
       "      <th>max_time_for_issue_norm_scaled</th>\n",
       "      <th>mean_time_for_issue_scaled</th>\n",
       "      <th>mean_time_for_issue_norm</th>\n",
       "      <th>mean_time_for_issue_scaled_norm</th>\n",
       "    </tr>\n",
       "  </thead>\n",
       "  <tbody>\n",
       "    <tr>\n",
       "      <th>count</th>\n",
       "      <td>30737.000000</td>\n",
       "      <td>30737.000000</td>\n",
       "      <td>2.538600e+04</td>\n",
       "      <td>25386.000000</td>\n",
       "      <td>30737.000000</td>\n",
       "      <td>3.073700e+04</td>\n",
       "      <td>3.073700e+04</td>\n",
       "      <td>30737.000000</td>\n",
       "      <td>30737.000000</td>\n",
       "      <td>3.073700e+04</td>\n",
       "      <td>30737.000000</td>\n",
       "      <td>3.073700e+04</td>\n",
       "      <td>25386.000000</td>\n",
       "      <td>2.538600e+04</td>\n",
       "      <td>2.538600e+04</td>\n",
       "    </tr>\n",
       "    <tr>\n",
       "      <th>mean</th>\n",
       "      <td>2083.158831</td>\n",
       "      <td>4.170023</td>\n",
       "      <td>8.573125e+03</td>\n",
       "      <td>122.128338</td>\n",
       "      <td>9.577271</td>\n",
       "      <td>3.225713e+04</td>\n",
       "      <td>1.828689e+04</td>\n",
       "      <td>0.353743</td>\n",
       "      <td>0.006099</td>\n",
       "      <td>3.323409e-16</td>\n",
       "      <td>0.012588</td>\n",
       "      <td>6.291938e-17</td>\n",
       "      <td>0.005901</td>\n",
       "      <td>-5.173081e-16</td>\n",
       "      <td>2.369578e-16</td>\n",
       "    </tr>\n",
       "    <tr>\n",
       "      <th>std</th>\n",
       "      <td>2024.517390</td>\n",
       "      <td>7.126601</td>\n",
       "      <td>2.539253e+04</td>\n",
       "      <td>520.709154</td>\n",
       "      <td>1.104758</td>\n",
       "      <td>1.000183e+05</td>\n",
       "      <td>4.849241e+04</td>\n",
       "      <td>1.433712</td>\n",
       "      <td>0.024719</td>\n",
       "      <td>1.000016e+00</td>\n",
       "      <td>0.033379</td>\n",
       "      <td>2.466993e-01</td>\n",
       "      <td>0.017479</td>\n",
       "      <td>1.000020e+00</td>\n",
       "      <td>1.000020e+00</td>\n",
       "    </tr>\n",
       "    <tr>\n",
       "      <th>min</th>\n",
       "      <td>0.000000</td>\n",
       "      <td>1.000000</td>\n",
       "      <td>6.000000e+01</td>\n",
       "      <td>0.000000</td>\n",
       "      <td>1.000000</td>\n",
       "      <td>6.000000e+01</td>\n",
       "      <td>6.000000e+01</td>\n",
       "      <td>0.000000</td>\n",
       "      <td>0.000000</td>\n",
       "      <td>-2.693156e+00</td>\n",
       "      <td>0.000041</td>\n",
       "      <td>-6.643890e-01</td>\n",
       "      <td>0.000041</td>\n",
       "      <td>-2.821856e+00</td>\n",
       "      <td>-1.264292e+00</td>\n",
       "    </tr>\n",
       "    <tr>\n",
       "      <th>25%</th>\n",
       "      <td>441.000000</td>\n",
       "      <td>1.000000</td>\n",
       "      <td>1.560000e+03</td>\n",
       "      <td>11.000000</td>\n",
       "      <td>9.750000</td>\n",
       "      <td>2.940000e+03</td>\n",
       "      <td>2.280000e+03</td>\n",
       "      <td>0.000000</td>\n",
       "      <td>0.000000</td>\n",
       "      <td>-6.281784e-01</td>\n",
       "      <td>0.001569</td>\n",
       "      <td>-1.549687e-01</td>\n",
       "      <td>0.001074</td>\n",
       "      <td>-6.001037e-01</td>\n",
       "      <td>-7.927589e-01</td>\n",
       "    </tr>\n",
       "    <tr>\n",
       "      <th>50%</th>\n",
       "      <td>1397.000000</td>\n",
       "      <td>2.000000</td>\n",
       "      <td>3.360000e+03</td>\n",
       "      <td>49.000000</td>\n",
       "      <td>10.000000</td>\n",
       "      <td>9.060000e+03</td>\n",
       "      <td>6.180000e+03</td>\n",
       "      <td>0.000000</td>\n",
       "      <td>0.000000</td>\n",
       "      <td>4.934223e-03</td>\n",
       "      <td>0.004254</td>\n",
       "      <td>1.217250e-03</td>\n",
       "      <td>0.002313</td>\n",
       "      <td>-3.509032e-02</td>\n",
       "      <td>-3.079324e-01</td>\n",
       "    </tr>\n",
       "    <tr>\n",
       "      <th>75%</th>\n",
       "      <td>3251.000000</td>\n",
       "      <td>4.000000</td>\n",
       "      <td>8.014500e+03</td>\n",
       "      <td>127.000000</td>\n",
       "      <td>10.000000</td>\n",
       "      <td>2.700000e+04</td>\n",
       "      <td>1.626000e+04</td>\n",
       "      <td>0.000000</td>\n",
       "      <td>0.000000</td>\n",
       "      <td>6.483869e-01</td>\n",
       "      <td>0.011192</td>\n",
       "      <td>1.599540e-01</td>\n",
       "      <td>0.005517</td>\n",
       "      <td>6.246014e-01</td>\n",
       "      <td>6.248456e-01</td>\n",
       "    </tr>\n",
       "    <tr>\n",
       "      <th>max</th>\n",
       "      <td>8395.000000</td>\n",
       "      <td>293.000000</td>\n",
       "      <td>1.452780e+06</td>\n",
       "      <td>72630.000000</td>\n",
       "      <td>10.000000</td>\n",
       "      <td>5.985900e+06</td>\n",
       "      <td>1.452780e+06</td>\n",
       "      <td>58.000000</td>\n",
       "      <td>1.000000</td>\n",
       "      <td>4.053583e+00</td>\n",
       "      <td>1.000000</td>\n",
       "      <td>1.000000e+00</td>\n",
       "      <td>1.000000</td>\n",
       "      <td>5.038840e+00</td>\n",
       "      <td>2.348651e+00</td>\n",
       "    </tr>\n",
       "  </tbody>\n",
       "</table>\n",
       "</div>"
      ],
      "text/plain": [
       "              index        issues  mean_time_for_issue  lines_of_code  \\\n",
       "count  30737.000000  30737.000000         2.538600e+04   25386.000000   \n",
       "mean    2083.158831      4.170023         8.573125e+03     122.128338   \n",
       "std     2024.517390      7.126601         2.539253e+04     520.709154   \n",
       "min        0.000000      1.000000         6.000000e+01       0.000000   \n",
       "25%      441.000000      1.000000         1.560000e+03      11.000000   \n",
       "50%     1397.000000      2.000000         3.360000e+03      49.000000   \n",
       "75%     3251.000000      4.000000         8.014500e+03     127.000000   \n",
       "max     8395.000000    293.000000         1.452780e+06   72630.000000   \n",
       "\n",
       "       code_health_now         total  max_time_for_issue  total_defects  \\\n",
       "count     30737.000000  3.073700e+04        3.073700e+04   30737.000000   \n",
       "mean          9.577271  3.225713e+04        1.828689e+04       0.353743   \n",
       "std           1.104758  1.000183e+05        4.849241e+04       1.433712   \n",
       "min           1.000000  6.000000e+01        6.000000e+01       0.000000   \n",
       "25%           9.750000  2.940000e+03        2.280000e+03       0.000000   \n",
       "50%          10.000000  9.060000e+03        6.180000e+03       0.000000   \n",
       "75%          10.000000  2.700000e+04        1.626000e+04       0.000000   \n",
       "max          10.000000  5.985900e+06        1.452780e+06      58.000000   \n",
       "\n",
       "       total_defects_scaled  max_time_for_issue_norm  \\\n",
       "count          30737.000000             3.073700e+04   \n",
       "mean               0.006099             3.323409e-16   \n",
       "std                0.024719             1.000016e+00   \n",
       "min                0.000000            -2.693156e+00   \n",
       "25%                0.000000            -6.281784e-01   \n",
       "50%                0.000000             4.934223e-03   \n",
       "75%                0.000000             6.483869e-01   \n",
       "max                1.000000             4.053583e+00   \n",
       "\n",
       "       max_time_for_issue_scaled  max_time_for_issue_norm_scaled  \\\n",
       "count               30737.000000                    3.073700e+04   \n",
       "mean                    0.012588                    6.291938e-17   \n",
       "std                     0.033379                    2.466993e-01   \n",
       "min                     0.000041                   -6.643890e-01   \n",
       "25%                     0.001569                   -1.549687e-01   \n",
       "50%                     0.004254                    1.217250e-03   \n",
       "75%                     0.011192                    1.599540e-01   \n",
       "max                     1.000000                    1.000000e+00   \n",
       "\n",
       "       mean_time_for_issue_scaled  mean_time_for_issue_norm  \\\n",
       "count                25386.000000              2.538600e+04   \n",
       "mean                     0.005901             -5.173081e-16   \n",
       "std                      0.017479              1.000020e+00   \n",
       "min                      0.000041             -2.821856e+00   \n",
       "25%                      0.001074             -6.001037e-01   \n",
       "50%                      0.002313             -3.509032e-02   \n",
       "75%                      0.005517              6.246014e-01   \n",
       "max                      1.000000              5.038840e+00   \n",
       "\n",
       "       mean_time_for_issue_scaled_norm  \n",
       "count                     2.538600e+04  \n",
       "mean                      2.369578e-16  \n",
       "std                       1.000020e+00  \n",
       "min                      -1.264292e+00  \n",
       "25%                      -7.927589e-01  \n",
       "50%                      -3.079324e-01  \n",
       "75%                       6.248456e-01  \n",
       "max                       2.348651e+00  "
      ]
     },
     "execution_count": 24,
     "metadata": {},
     "output_type": "execute_result"
    }
   ],
   "source": [
    "df.describe()"
   ]
  },
  {
   "cell_type": "code",
   "execution_count": 25,
   "id": "28c9848b-9311-473c-ab5b-2f5c830f1096",
   "metadata": {},
   "outputs": [],
   "source": [
    "### Visualize the normality of our dependent variables"
   ]
  },
  {
   "cell_type": "code",
   "execution_count": 27,
   "id": "54e3d4af-f932-4f64-9c1b-97dd89adf392",
   "metadata": {},
   "outputs": [
    {
     "name": "stderr",
     "output_type": "stream",
     "text": [
      "/Users/adam/opt/miniconda3/envs/ml/lib/python3.9/site-packages/seaborn/distributions.py:2619: FutureWarning: `distplot` is a deprecated function and will be removed in a future version. Please adapt your code to use either `displot` (a figure-level function with similar flexibility) or `histplot` (an axes-level function for histograms).\n",
      "  warnings.warn(msg, FutureWarning)\n",
      "/Users/adam/opt/miniconda3/envs/ml/lib/python3.9/site-packages/seaborn/distributions.py:2619: FutureWarning: `distplot` is a deprecated function and will be removed in a future version. Please adapt your code to use either `displot` (a figure-level function with similar flexibility) or `histplot` (an axes-level function for histograms).\n",
      "  warnings.warn(msg, FutureWarning)\n"
     ]
    },
    {
     "data": {
      "text/plain": [
       "Text(0.5, 1.0, 'Normalized Data (max time')"
      ]
     },
     "execution_count": 27,
     "metadata": {},
     "output_type": "execute_result"
    },
    {
     "data": {
      "image/png": "[encoded data removed]",
      "text/plain": [
       "<Figure size 432x288 with 2 Axes>"
      ]
     },
     "metadata": {
      "needs_background": "light"
     },
     "output_type": "display_data"
    }
   ],
   "source": [
    "import seaborn as sns\n",
    "import matplotlib.pyplot as plt\n",
    "\n",
    "fig, ax=plt.subplots(1,2)\n",
    "\n",
    "sns.distplot(df['max_time_for_issue_scaled'], ax=ax[0])\n",
    "ax[0].set_title('Original Data (max time)')\n",
    "\n",
    "sns.distplot(df['max_time_for_issue_norm_scaled'], ax=ax[1])\n",
    "ax[1].set_title('Normalized Data (max time')"
   ]
  },
  {
   "cell_type": "code",
   "execution_count": 28,
   "id": "b0b58ca2-bb7b-4897-8110-27fb649283b1",
   "metadata": {},
   "outputs": [
    {
     "name": "stderr",
     "output_type": "stream",
     "text": [
      "/Users/adam/opt/miniconda3/envs/ml/lib/python3.9/site-packages/seaborn/distributions.py:2619: FutureWarning: `distplot` is a deprecated function and will be removed in a future version. Please adapt your code to use either `displot` (a figure-level function with similar flexibility) or `histplot` (an axes-level function for histograms).\n",
      "  warnings.warn(msg, FutureWarning)\n",
      "/Users/adam/opt/miniconda3/envs/ml/lib/python3.9/site-packages/seaborn/distributions.py:2619: FutureWarning: `distplot` is a deprecated function and will be removed in a future version. Please adapt your code to use either `displot` (a figure-level function with similar flexibility) or `histplot` (an axes-level function for histograms).\n",
      "  warnings.warn(msg, FutureWarning)\n"
     ]
    },
    {
     "data": {
      "text/plain": [
       "Text(0.5, 1.0, 'Normalized Data (mean time)')"
      ]
     },
     "execution_count": 28,
     "metadata": {},
     "output_type": "execute_result"
    },
    {
     "data": {
      "image/png": "[encoded data removed]",
      "text/plain": [
       "<Figure size 432x288 with 2 Axes>"
      ]
     },
     "metadata": {
      "needs_background": "light"
     },
     "output_type": "display_data"
    }
   ],
   "source": [
    "fig, ax=plt.subplots(1,2)\n",
    "\n",
    "sns.distplot(df['mean_time_for_issue_scaled'], ax=ax[0])\n",
    "ax[0].set_title('Original Data (mean time)')\n",
    "\n",
    "sns.distplot(df['mean_time_for_issue_norm'], ax=ax[1])\n",
    "ax[1].set_title('Normalized Data (mean time)')"
   ]
  },
  {
   "cell_type": "markdown",
   "id": "34512940-2e7d-4d66-8c00-f8876b0f7a46",
   "metadata": {},
   "source": [
    "### Descriptive graphs\n",
    "\n",
    "Visualize the programming language statistics:"
   ]
  },
  {
   "cell_type": "code",
   "execution_count": 31,
   "id": "6a1057dc-9446-4f51-b73c-d5c1a6535855",
   "metadata": {},
   "outputs": [
    {
     "data": {
      "image/png": "[encoded data removed]",
      "text/plain": [
       "<Figure size 432x288 with 1 Axes>"
      ]
     },
     "metadata": {
      "needs_background": "light"
     },
     "output_type": "display_data"
    }
   ],
   "source": [
    "ax_lang = sns.countplot(data=df, x='language', order=df['language'].value_counts().index)\n",
    "ax_lang.set(xlabel='Programming Language', ylabel='Number of files', title='Overview of included programming languages')\n",
    "plt.setp(ax_lang.get_xticklabels(), rotation=30, horizontalalignment='right')\n",
    "plt.show(ax_lang)"
   ]
  },
  {
   "cell_type": "markdown",
   "id": "f516fded-e622-48e3-800e-0fbd4c4d52cb",
   "metadata": {},
   "source": [
    "## Statistical tests\n",
    "\n",
    "Split the distribution into three groups, each one representing a code health category:"
   ]
  },
  {
   "cell_type": "code",
   "execution_count": 32,
   "id": "119c48e5-3aa7-4a39-a146-d1dd27b2c695",
   "metadata": {},
   "outputs": [],
   "source": [
    "healthy = df[df['code_health_category']=='healthy']\n",
    "warning = df[df['code_health_category']=='warning']\n",
    "alert = df[df['code_health_category']=='alert']"
   ]
  },
  {
   "cell_type": "markdown",
   "id": "bcdc9b36-15f7-4944-9a11-88728112915e",
   "metadata": {},
   "source": [
    "### [RQ1] How does the number of reported defects in source code files correlate to source code quality?\n",
    "\n",
    "We use the Anderson-Darling test (A-D test), which is a modification of Kolmogorov-Smirnov test. A-D tests whether a given sample of observations is drawn from a given probability distribution (in our case from normal distribution). The null hypothesis is that the samples are *not* from a normal distribution."
   ]
  },
  {
   "cell_type": "code",
   "execution_count": 36,
   "id": "4b4b549c-bd98-41e6-b8a9-933034f8de92",
   "metadata": {},
   "outputs": [
    {
     "name": "stdout",
     "output_type": "stream",
     "text": [
      "A-D statistic: 7719.706302409184\n",
      "Critical values: [0.576 0.656 0.787 0.918 1.092]\n",
      "Significance levels: [15.  10.   5.   2.5  1. ]\n"
     ]
    }
   ],
   "source": [
    "from scipy.stats import anderson\n",
    "\n",
    "result = (anderson(df['total_defects_scaled'], dist='norm'))\n",
    "\n",
    "print(f\"A-D statistic: {result[0]}\")\n",
    "print(f\"Critical values: {result[1]}\")\n",
    "print(f\"Significance levels: {result[2]}\")"
   ]
  },
  {
   "cell_type": "markdown",
   "id": "985da520-c98b-4d00-9981-a7ebec267abf",
   "metadata": {},
   "source": [
    "Since we don't have sampels from a normal distribution, we use a significance test for non-normal distribution using the Kruskal-Wallis Test:"
   ]
  },
  {
   "cell_type": "code",
   "execution_count": 39,
   "id": "2f049fef-65b1-4997-88b0-f3cb4781a24d",
   "metadata": {},
   "outputs": [
    {
     "data": {
      "text/plain": [
       "KruskalResult(statistic=1645.0453054602567, pvalue=0.0)"
      ]
     },
     "execution_count": 39,
     "metadata": {},
     "output_type": "execute_result"
    }
   ],
   "source": [
    "from scipy import stats\n",
    "\n",
    "#perform Kruskal-Wallis Test: it is considered to be the non-parametric equivalent of the One-Way ANOVA.\n",
    "stats.kruskal(healthy['total_defects_scaled'], warning['total_defects_scaled'], alert['total_defects_scaled'])"
   ]
  },
  {
   "cell_type": "code",
   "execution_count": 41,
   "id": "48c5aad6-0f0c-4075-b575-371d99a6a820",
   "metadata": {},
   "outputs": [
    {
     "data": {
      "text/html": [
       "<div>\n",
       "<style scoped>\n",
       "    .dataframe tbody tr th:only-of-type {\n",
       "        vertical-align: middle;\n",
       "    }\n",
       "\n",
       "    .dataframe tbody tr th {\n",
       "        vertical-align: top;\n",
       "    }\n",
       "\n",
       "    .dataframe thead th {\n",
       "        text-align: right;\n",
       "    }\n",
       "</style>\n",
       "<table border=\"1\" class=\"dataframe\">\n",
       "  <thead>\n",
       "    <tr style=\"text-align: right;\">\n",
       "      <th></th>\n",
       "      <th>healthy</th>\n",
       "      <th>warning</th>\n",
       "      <th>alert</th>\n",
       "    </tr>\n",
       "  </thead>\n",
       "  <tbody>\n",
       "    <tr>\n",
       "      <th>healthy</th>\n",
       "      <td>1.000</td>\n",
       "      <td>0.001</td>\n",
       "      <td>0.001</td>\n",
       "    </tr>\n",
       "    <tr>\n",
       "      <th>warning</th>\n",
       "      <td>0.001</td>\n",
       "      <td>1.000</td>\n",
       "      <td>0.001</td>\n",
       "    </tr>\n",
       "    <tr>\n",
       "      <th>alert</th>\n",
       "      <td>0.001</td>\n",
       "      <td>0.001</td>\n",
       "      <td>1.000</td>\n",
       "    </tr>\n",
       "  </tbody>\n",
       "</table>\n",
       "</div>"
      ],
      "text/plain": [
       "         healthy  warning  alert\n",
       "healthy    1.000    0.001  0.001\n",
       "warning    0.001    1.000  0.001\n",
       "alert      0.001    0.001  1.000"
      ]
     },
     "execution_count": 41,
     "metadata": {},
     "output_type": "execute_result"
    }
   ],
   "source": [
    "# Multiple comparisons are done using DSCF\n",
    "\n",
    "import scikit_posthocs as sp\n",
    "\n",
    "sp.posthoc_dscf(df,val_col=\"total_defects_scaled\",group_col=\"code_health_category\")"
   ]
  },
  {
   "cell_type": "markdown",
   "id": "4b660e28-cffb-42cb-bda9-37d1ecd22f37",
   "metadata": {},
   "source": [
    "Add visual plots of the results to highlight the differences in means:"
   ]
  },
  {
   "cell_type": "code",
   "execution_count": 38,
   "id": "57c8569b-4d18-4c45-84c2-3b4a57354a97",
   "metadata": {},
   "outputs": [
    {
     "data": {
      "image/png": "[encoded data removed]",
      "text/plain": [
       "<Figure size 432x288 with 1 Axes>"
      ]
     },
     "metadata": {
      "needs_background": "light"
     },
     "output_type": "display_data"
    }
   ],
   "source": [
    "def show_total_defects_by_code_health_for(df):\n",
    "    bx = sns.barplot(x=\"code_health_category\", y=\"total_defects_scaled\", data=df, order=['healthy', 'warning', 'alert'], palette=\"Blues_d\")\n",
    "    bx.set(xlabel='Code health category', ylabel='Defects per File', title='Defects by Code Health category')\n",
    "    plt.show(bx)\n",
    "\n",
    "show_total_defects_by_code_health_for(df)"
   ]
  },
  {
   "cell_type": "code",
   "execution_count": null,
   "id": "bff89432-68ae-46ac-b9e6-eb353df0c67d",
   "metadata": {},
   "outputs": [],
   "source": []
  }
 ],
 "metadata": {
  "kernelspec": {
   "display_name": "Python 3 (ipykernel)",
   "language": "python",
   "name": "python3"
  },
  "language_info": {
   "codemirror_mode": {
    "name": "ipython",
    "version": 3
   },
   "file_extension": ".py",
   "mimetype": "text/x-python",
   "name": "python",
   "nbconvert_exporter": "python",
   "pygments_lexer": "ipython3",
   "version": "3.9.7"
  }
 },
 "nbformat": 4,
 "nbformat_minor": 5
}
